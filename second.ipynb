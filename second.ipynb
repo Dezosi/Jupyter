{
 "cells": [
  {
   "cell_type": "code",
   "execution_count": null,
   "id": "8c62ac84-58dc-40d3-902f-29a1dd7fce81",
   "metadata": {},
   "outputs": [],
   "source": []
  }
 ],
 "metadata": {
  "kernelspec": {
   "display_name": "",
   "name": ""
  },
  "language_info": {
   "name": ""
  }
 },
 "nbformat": 4,
 "nbformat_minor": 5
}
