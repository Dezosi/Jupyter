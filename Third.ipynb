{
  "nbformat": 4,
  "nbformat_minor": 0,
  "metadata": {
    "colab": {
      "provenance": [],
      "authorship_tag": "ABX9TyOqHDAqJWNPCE4C7sVTpyV6",
      "include_colab_link": true
    },
    "kernelspec": {
      "name": "python3",
      "display_name": "Python 3"
    },
    "language_info": {
      "name": "python"
    }
  },
  "cells": [
    {
      "cell_type": "markdown",
      "metadata": {
        "id": "view-in-github",
        "colab_type": "text"
      },
      "source": [
        "<a href=\"https://colab.research.google.com/github/Dezosi/Jupyter/blob/main/Third.ipynb\" target=\"_parent\"><img src=\"https://colab.research.google.com/assets/colab-badge.svg\" alt=\"Open In Colab\"/></a>"
      ]
    },
    {
      "cell_type": "markdown",
      "source": [
        "Пишем код: \"Привет мир\""
      ],
      "metadata": {
        "id": "rMyA3lVkf-sc"
      }
    },
    {
      "cell_type": "code",
      "execution_count": 2,
      "metadata": {
        "colab": {
          "base_uri": "https://localhost:8080/"
        },
        "id": "BEAWT1ktfxfH",
        "outputId": "e758f41d-7147-4623-a3e9-065a4a10b1dd"
      },
      "outputs": [
        {
          "output_type": "stream",
          "name": "stdout",
          "text": [
            "Hello world\n"
          ]
        }
      ],
      "source": [
        "print('Hello world')"
      ]
    },
    {
      "cell_type": "markdown",
      "source": [
        "$E = mc^2$"
      ],
      "metadata": {
        "id": "v5a9ozKDzAYz"
      }
    },
    {
      "cell_type": "code",
      "source": [],
      "metadata": {
        "id": "9w8z0GWDzjX2"
      },
      "execution_count": null,
      "outputs": []
    }
  ]
}